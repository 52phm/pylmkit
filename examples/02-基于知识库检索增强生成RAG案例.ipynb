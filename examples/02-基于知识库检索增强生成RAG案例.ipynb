{
 "cells": [
  {
   "cell_type": "markdown",
   "id": "75c6a7d8",
   "metadata": {},
   "source": [
    "## 1.项目信息\n",
    "- 日期： 2023-12-2\n",
    "- 作者：小知\n",
    "- 课题: RAG（Retrieval-Augmented Generation，检索增强生成）是一种利用知识库检索的方法，提供与用户查询相关的内容，从而增强模型答案的准确性和特异性。RAG包括本地知识库、基于网络的知识库、记忆知识库和数据库知识库。\n",
    "- PyLMKit设计了四种RAG功能：\n",
    "    - 基于本地文档的知识库DocRAG\n",
    "    - 基于网页的知识库WebRAG\n",
    "    - 基于数据库的知识库DBRAG\n",
    "    - 基于记忆的知识库MemoryRAG\n",
    "- GitHub：[https://github.com/52phm/pylmkit](https://github.com/52phm/pylmkit)\n",
    "- PyLMKit官网教程\n",
    "    - [PyLMKit应用（online application）](http://app.pylmkit.cn)\n",
    "    - [English document](http://en.pylmkit.cn)\n",
    "    - [中文文档](http://zh.pylmkit.cn)\n",
    "\n",
    "**PyLMKit RAG架构图**\n",
    "\n",
    "![https://github.com/52phm/pylmkit/blob/main/docs/images/RAG.png](https://github.com/52phm/pylmkit/blob/main/docs/images/RAG.png)"
   ]
  },
  {
   "cell_type": "code",
   "execution_count": 1,
   "id": "0e70b8c2",
   "metadata": {
    "scrolled": true
   },
   "outputs": [],
   "source": [
    "# 下载安装\n",
    "# !pip install pylmkit -U --user\n",
    "# !pip install sentence-transformers --user\n",
    "# !pip install faiss-cpu --user"
   ]
  },
  {
   "cell_type": "markdown",
   "id": "a1fe84e8",
   "metadata": {},
   "source": [
    "## 2.设置API KEY\n",
    "\n",
    "应用哪个大模型，就提前设置好该大模型对应的 `API KEY`"
   ]
  },
  {
   "cell_type": "code",
   "execution_count": 2,
   "id": "bf1771e3",
   "metadata": {},
   "outputs": [],
   "source": [
    "import os\n",
    "\n",
    "\n",
    "# openai chatgpt\n",
    "os.environ['openai_api_key'] = \"\"\n",
    "\n",
    "# 百度\n",
    "os.environ['qianfan_ak'] = \"\"\n",
    "os.environ['qianfan_sk'] = \"\"\n",
    "\n",
    "# 阿里\n",
    "os.environ[\"DASHSCOPE_API_KEY\"] = \"\"\n",
    "\n",
    "# 科大讯飞-星火\n",
    "os.environ[\"spark_appid\"] = \"\"\n",
    "os.environ[\"spark_apikey\"] = \"\"\n",
    "os.environ[\"spark_apisecret\"] = \"\"\n",
    "os.environ[\"spark_domain\"] = \"generalv3\"\n",
    "\n",
    "# 智谱AI\n",
    "os.environ['zhipu_apikey'] = \"\"\n"
   ]
  },
  {
   "cell_type": "markdown",
   "id": "3fdfeb26",
   "metadata": {},
   "source": [
    "或者在`.env`文件中批量加载设置好的`API KEY`，加载方法如下："
   ]
  },
  {
   "cell_type": "code",
   "execution_count": 3,
   "id": "d876c6de",
   "metadata": {},
   "outputs": [],
   "source": [
    "from dotenv import load_dotenv\n",
    "\n",
    "# load .env\n",
    "# load_dotenv()"
   ]
  },
  {
   "cell_type": "markdown",
   "id": "91ce6288",
   "metadata": {},
   "source": [
    "## 3.加载大语言模型\n",
    "\n",
    "导入大语言模型，在本案例中使用`百度千帆`大模型作为例子进行介绍。"
   ]
  },
  {
   "cell_type": "code",
   "execution_count": 4,
   "id": "98e071d1",
   "metadata": {},
   "outputs": [],
   "source": [
    "from pylmkit.llms import ChatQianfan  # 百度-千帆\n",
    "from pylmkit.llms import ChatSpark  # 讯飞-星火\n",
    "from pylmkit.llms import ChatZhipu  # 清华-智谱\n",
    "from pylmkit.llms import ChatHunyuan  # 腾讯-混元\n",
    "from pylmkit.llms import ChatBaichuan  # 百川\n",
    "from pylmkit.llms import ChatTongyi  # 阿里-通义\n",
    "from pylmkit.llms import ChatOpenAI  # OpenAI\n",
    "\n",
    "llm_model = ChatQianfan()"
   ]
  },
  {
   "cell_type": "markdown",
   "id": "d72d4f81",
   "metadata": {},
   "source": [
    "## 4.选择记忆功能\n",
    "\n",
    "PyLMKit 设计了四种记忆功能，分别如下：\n",
    "\n",
    "- MemoryHistoryLength：记忆历史长度，强调使用近期多长的记忆内容；\n",
    "- MemoryConversationsNumber：记忆对数数，强调使用近期N组对话作为记忆的内容；\n",
    "- MemorySummary：记忆摘要，强调精简提取记忆；\n",
    "- 暂未公布\n",
    "\n",
    "本案例使用`MemoryHistoryLength`记忆功能，使得大语言模型能到根据该历史记忆记住上下文内容，以便连贯回答用户的问题。(更多关于记忆的用法，可以在后续memory专题中查阅)"
   ]
  },
  {
   "cell_type": "code",
   "execution_count": 5,
   "id": "6c02d095",
   "metadata": {},
   "outputs": [],
   "source": [
    "from pylmkit.memory import MemoryHistoryLength\n",
    "\n",
    "\n",
    "memory = MemoryHistoryLength(memory_length=500, streamlit_web=False)  # 在python中运行\n",
    "# memory2 = MemoryHistoryLength(memory_length=500, streamlit_web=True)  # 在streamlit web中运行"
   ]
  },
  {
   "cell_type": "markdown",
   "id": "113a35af",
   "metadata": {},
   "source": [
    "## 5.设计角色模板\n",
    "\n",
    "大语言模型是一种`一对多`关系的模型架构，其中`一`表示大语言模型，而`多`表示下游任务，比如写作、客服、分析数据等这些都属于下游任务。\n",
    "因此需要我们通过设计提示词模板去引导大语言模型高效且有质量地完成指定`下游任务`。\n",
    "\n",
    "在设计角色模板之前，我们先来了解`PyLMKit`中一些必须固定的关键词：\n",
    "\n",
    "- {query}：表示这是用户输入的提问内容；\n",
    "- {search}：表示线上实时搜索引擎搜索返回的内容；\n",
    "- {memory}：表示记忆的内容；\n",
    "- {ra}：表示知识库搜索返回的内容。\n",
    "\n",
    "下面我们来看一个角色模板的例子：\n",
    "\n",
    "```python\n",
    "# 它们所在的位置，表示它们内容所嵌入的位置\n",
    "role_template = \"{memory}\\n {search}\\n 用户提问:{query}\"\n",
    "\n",
    "# 当然，你还可以进一步设计模板\n",
    "role_template = \"历史对话内容：{memory}\\n 搜索的相似内容：{search} {ra}\\n 请结合上述内容回答问题:{query}\"\n",
    "\n",
    "model.invoke(query=\"如何学习python？\")\n",
    "```\n",
    "\n",
    "角色模板决定大语言模型回答的质量，因此角色模板需要反复打磨，以设计一个高质量的角色模板，对问题的解决效果可以达到事半功倍。\n",
    "\n",
    "另外，值得注意的是，如果你设计的角色模板的关键词，不在`[query, search, ra, memory]`中，那么你需要额外添加新的变量和变量值，例如：\n",
    "\n",
    "```python\n",
    "role_template = \"{memory}\\n 请为我推荐{query}的{topic}\"\n",
    "\n",
    "# 额外的关键字，可以像 topic=\"美食\" 一样添加，多个也是一样的步骤进行添加\n",
    "model.invoke(query='北京', topic=\"美食\")\n",
    "```\n"
   ]
  },
  {
   "cell_type": "code",
   "execution_count": 6,
   "id": "9284ea42",
   "metadata": {},
   "outputs": [],
   "source": [
    "role_template = \"{memory}\\n 请为我推荐{query}的{topic}\""
   ]
  },
  {
   "cell_type": "markdown",
   "id": "50c2ca8f",
   "metadata": {},
   "source": [
    "## 6.加载知识库\n",
    "\n",
    "PyLMKit设计了四种RAG功能：\n",
    "\n",
    "- 基于本地文档的知识库DocRAG\n",
    "- 基于网页的知识库WebRAG\n",
    "- 基于数据库的知识库DBRAG\n",
    "- 基于记忆的知识库MemoryRAG\n",
    "\n",
    "本案例介绍`DocRAG`和`WebRAG`，下面先介绍如何快速加载本地文档和网页知识库。"
   ]
  },
  {
   "cell_type": "markdown",
   "id": "f61a072c",
   "metadata": {},
   "source": [
    "- 加载本地知识库`DocumentLoader`"
   ]
  },
  {
   "cell_type": "code",
   "execution_count": 7,
   "id": "8065e798",
   "metadata": {},
   "outputs": [
    {
     "name": "stderr",
     "output_type": "stream",
     "text": [
      "  0%|                                                                                            | 0/5 [00:00<?, ?it/s]2023-12-02 12:20:29 - pylmkit.perception.directory - WARNING - Error loading file document_test\\loader.yaml: Invalid file document_test\\loader.yaml. The FileType.UNK file type is not supported in partition.\n",
      " 20%|████████████████▊                                                                   | 1/5 [00:01<00:07,  1.90s/it]2023-12-02 12:20:29 - pylmkit.perception.directory - WARNING - Error loading file document_test\\qqqqq.yaml: Invalid file document_test\\qqqqq.yaml. The FileType.UNK file type is not supported in partition.\n",
      "100%|████████████████████████████████████████████████████████████████████████████████████| 5/5 [00:03<00:00,  1.45it/s]"
     ]
    },
    {
     "name": "stdout",
     "output_type": "stream",
     "text": [
      "144\n",
      "page_content='电机（俗称“马达”）是指依据电磁感应定律实现电能转换或传递的一种电磁装置。分为电动机（符号为M）和发电机（符号为G）。\\n\\n中文名电机\\n\\n外文名Electric machinery\\n\\n依据原理电磁感应定律\\n\\n电路中表示电动机为M，发电机为G\\n\\n定    义电能转换或传递的一种电磁装置\\n\\n目录\\n\\n1划分\\n\\n2直流式\\n\\n3电磁式\\n\\n4直流电机\\n\\n▪他励\\n\\n▪并励\\n\\n▪串励\\n\\n▪复励\\n\\n5永磁式' metadata={'source': 'document_test\\\\aaa.txt'}\n"
     ]
    },
    {
     "name": "stderr",
     "output_type": "stream",
     "text": [
      "\n"
     ]
    }
   ],
   "source": [
    "from pylmkit.perception.text import DocumentLoader\n",
    "\n",
    "\n",
    "# 加载器：可以加载一个文档，也可以批量加载指定文件夹中的文档\n",
    "# loader = DocumentLoader(path='./document_test/aaa.txt')\n",
    "loader = DocumentLoader(path='./document_test', show_progress=True)\n",
    "\n",
    "# 分割器\n",
    "docs1 = loader.split(chunk_size=200, chunk_overlap=50)\n",
    "\n",
    "print(len(docs1))\n",
    "print(docs1[0])"
   ]
  },
  {
   "cell_type": "markdown",
   "id": "4446220b",
   "metadata": {},
   "source": [
    "- 加载网页知识库`WebLoader`"
   ]
  },
  {
   "cell_type": "code",
   "execution_count": 8,
   "id": "7778112a",
   "metadata": {},
   "outputs": [
    {
     "name": "stderr",
     "output_type": "stream",
     "text": [
      "2023-12-02 12:20:31 - langchain.document_loaders.web_base - INFO - fake_useragent not found, using default user agent.To get a realistic header for requests, `pip install fake_useragent`.\n"
     ]
    },
    {
     "name": "stdout",
     "output_type": "stream",
     "text": [
      "44\n",
      "page_content='，因此相比竞品而言 上 汽魔方电池在各个容量电池包的体积效率转换和重量效率转换都更为出色。上汽魔方电池躺式布局https://www.zhihu.com/video/1549353400738979841编辑于 2022-09-03 11:19动力电池锂电池\\u200b赞同 183\\u200b\\u200b7 条评论\\u200b分享\\u200b喜欢\\u200b收藏\\u200b申请转载\\u200b' metadata={'source': 'https://zhuanlan.zhihu.com/p/339971541', 'title': '一文读懂汽车动力电池 - 知乎', 'description': '动力电池作为电动汽车的三大件（电池、电机、电控）之一，是整个车辆系统的动力来源，一直以来被视为电动汽车发展的标志性技术，其性能好坏直接关系到车辆续航里程的长短，重要性不言而喻。今天小七带大家拨开迷雾…', 'language': 'zh'}\n"
     ]
    }
   ],
   "source": [
    "from pylmkit.perception.text import WebLoader\n",
    "\n",
    "# 加载器：可以加载一个网页，也可以批量加载网页\n",
    "loader = WebLoader(path='https://zhuanlan.zhihu.com/p/339971541')\n",
    "# loader = WebLoader(\n",
    "#     path=[\n",
    "#         'https://zhuanlan.zhihu.com/p/339971541',\n",
    "#         'https://zhuanlan.zhihu.com/p/339971541',\n",
    "        \n",
    "#     ]\n",
    "# )\n",
    "\n",
    "# 分割器\n",
    "docs2 = loader.split(chunk_size=200, chunk_overlap=50)\n",
    "\n",
    "print(len(docs2))\n",
    "print(docs2[-1])\n"
   ]
  },
  {
   "cell_type": "markdown",
   "id": "e9837877",
   "metadata": {},
   "source": [
    "可以将本地知识库和网页知识库融合应用。"
   ]
  },
  {
   "cell_type": "code",
   "execution_count": 9,
   "id": "d1ded4da",
   "metadata": {},
   "outputs": [
    {
     "name": "stdout",
     "output_type": "stream",
     "text": [
      "188\n"
     ]
    }
   ],
   "source": [
    "docs = []\n",
    "docs.extend(docs1)\n",
    "docs.extend(docs2)\n",
    "print(len(docs))"
   ]
  },
  {
   "cell_type": "markdown",
   "id": "fb783a93",
   "metadata": {},
   "source": [
    "## 7.加载词向量模型\n",
    "\n",
    "文本是一种非结构化的数据类型，因此需要使用词嵌入技术将文本向量化，PyLMKit提供两大类型的词向量模型调用：\n",
    "\n",
    "- 使用付费的词向量模型：通过API调用词向量模型，如OpenAI的`EmbeddingsOpenAI`，百度千帆的`EmbeddingsQianfan`\n",
    "- 下载开源模型到本地免费使用：在`huggingface`中下载模型，如`EmbeddingsHuggingFace`，`EmbeddingsHuggingFaceBge`和`EmbeddingsHuggingFaceInstruct`\n",
    "\n",
    "除了通过`PyLMKit`调用，还支持`langchain`导入。\n",
    "\n",
    "另外，值得注意的是，不同词向量模型的准确性不一，因此也要选择合适的词向量模型才能发挥更大的作用。"
   ]
  },
  {
   "cell_type": "code",
   "execution_count": 10,
   "id": "d453053e",
   "metadata": {},
   "outputs": [
    {
     "name": "stderr",
     "output_type": "stream",
     "text": [
      "G:\\anzhuangqu\\anaconda2023\\envs\\gradio_env\\Lib\\site-packages\\tqdm\\auto.py:21: TqdmWarning: IProgress not found. Please update jupyter and ipywidgets. See https://ipywidgets.readthedocs.io/en/stable/user_install.html\n",
      "  from .autonotebook import tqdm as notebook_tqdm\n",
      "2023-12-02 12:20:37 - sentence_transformers.SentenceTransformer - INFO - Load pretrained SentenceTransformer: all-MiniLM-L6-v2\n",
      "2023-12-02 12:20:38 - sentence_transformers.SentenceTransformer - INFO - Use pytorch device: cpu\n"
     ]
    }
   ],
   "source": [
    "# 付费调用\n",
    "from pylmkit.llms import EmbeddingsQianfan  # 百度-千帆-词向量模型\n",
    "from pylmkit.llms import EmbeddingsOpenAI  # OpenAI-词向量模型\n",
    "\n",
    "# 本地调用\n",
    "from pylmkit.llms import EmbeddingsHuggingFace  # 使用 HuggingFace 中开源模型\n",
    "from pylmkit.llms import EmbeddingsHuggingFaceBge\n",
    "from pylmkit.llms import EmbeddingsHuggingFaceInstruct\n",
    "\n",
    "\n",
    "# 本案例使用本地模型，为了方便使用一个小模型（下载模型一般会下载超时，需合理上网）\n",
    "embed_model = EmbeddingsHuggingFace(model_name=\"all-MiniLM-L6-v2\")\n"
   ]
  },
  {
   "cell_type": "markdown",
   "id": "05df1b45",
   "metadata": {},
   "source": [
    "## 8.加载向量数据库\n",
    "\n",
    "向量数据库无疑是今年的大热点，因为RAG或者说基于本地知识库的垂直领域知识问答，这种低成本且可行的技术方案在今年特别爆火，而向量数据库作为一种能存储向量和检索相似文档中起着重要作用。\n",
    "\n",
    "下面使用`FAISS`向量数据库进行演示。"
   ]
  },
  {
   "cell_type": "code",
   "execution_count": 11,
   "id": "2c3d4bf0",
   "metadata": {},
   "outputs": [],
   "source": [
    "from langchain.vectorstores import FAISS\n",
    "\n",
    "vdb_model = FAISS"
   ]
  },
  {
   "cell_type": "markdown",
   "id": "e4175d0d",
   "metadata": {},
   "source": [
    "## 9.加载RAG应用\n",
    "\n",
    "PyLMKit设计了四种RAG功能：\n",
    "\n",
    "- 基于本地文档的知识库DocRAG\n",
    "- 基于网页的知识库WebRAG\n",
    "- 基于数据库的知识库DBRAG\n",
    "- 基于记忆的知识库MemoryRAG\n",
    "\n",
    "RAG是基于知识库检索 + RolePlay角色扮演两部分组成，因此RAG具备RolePlay应用的参数和功能。"
   ]
  },
  {
   "cell_type": "code",
   "execution_count": 12,
   "id": "a3ae4d27",
   "metadata": {},
   "outputs": [
    {
     "name": "stderr",
     "output_type": "stream",
     "text": [
      "Batches: 100%|███████████████████████████████████████████████████████████████████████████| 6/6 [00:06<00:00,  1.02s/it]\n",
      "2023-12-02 12:20:44 - faiss.loader - INFO - Loading faiss with AVX2 support.\n",
      "2023-12-02 12:20:44 - faiss.loader - INFO - Could not load library with AVX2 support due to:\n",
      "ModuleNotFoundError(\"No module named 'faiss.swigfaiss_avx2'\")\n",
      "2023-12-02 12:20:44 - faiss.loader - INFO - Loading faiss.\n",
      "2023-12-02 12:20:44 - faiss.loader - INFO - Successfully loaded faiss.\n"
     ]
    }
   ],
   "source": [
    "from pylmkit.app import DocRAG\n",
    "from pylmkit.app import WebRAG\n",
    "\n",
    "\n",
    "# 角色模板可以根据自己情况进行设计，这是一个简单例子\n",
    "role_template = \"{ra}\\n user question: {query}\"  \n",
    "rag = DocRAG(\n",
    "    embed_model=embed_model,\n",
    "    vdb_model=vdb_model,\n",
    "    llm_model=llm_model,\n",
    "    corpus=docs,\n",
    "    role_template=role_template,\n",
    "    return_language=\"中文\",\n",
    "    online_search_kwargs={},\n",
    "    # online_search_kwargs={'topk': 2, 'timeout': 20},  # 搜索引擎配置，不开启则可以设置为 online_search_kwargs={}\n",
    ")"
   ]
  },
  {
   "cell_type": "markdown",
   "id": "1ad5f8b8",
   "metadata": {},
   "source": [
    "## 10.在python中运行"
   ]
  },
  {
   "cell_type": "code",
   "execution_count": 14,
   "id": "b6e28d6f",
   "metadata": {
    "scrolled": false
   },
   "outputs": [
    {
     "name": "stdout",
     "output_type": "stream",
     "text": [
      "User query：电机有哪些类型？\n"
     ]
    },
    {
     "name": "stderr",
     "output_type": "stream",
     "text": [
      "Batches: 100%|███████████████████████████████████████████████████████████████████████████| 1/1 [00:00<00:00, 33.42it/s]\n"
     ]
    },
    {
     "name": "stdout",
     "output_type": "stream",
     "text": [
      ">>><<< 10\n",
      "\n",
      "AI：\n",
      " 电机主要有以下几种类型：\n",
      "\n",
      "1. 直流电机：它是一种将直流电能转换为机械能的旋转电机。\n",
      "\n",
      "2. 交流电机：它是一种将交流电能转换为机械能的旋转电机，最常见的类型是异步电机和同步电机。\n",
      "\n",
      "3. 无刷电机：它是一种无需机械式转动部件的电机，通常使用直流电源或交流电源驱动。\n",
      "\n",
      "4. 永磁电机：它使用永久磁铁产生磁场，通常用于高速旋转设备，如吹风机或电动工具。\n",
      "\n",
      "此外，软启动器通常使用交流电机，因为它没有碳刷和整流子，所以它具有免维护、坚固、应用广的特点。在控制方面，它使用复杂控制技术来达到相当于直流电机的性能。在微处理机和功率组件发展迅速的今天，通过适当控制交流电机的电流分量，可以实现对交流电机的控制并达到类似于直流电机的性能。在某些特定的场合下，软启动器还会提供软停车功能，以避免自由停车引起的转矩冲击。在推广无刷电机的使用和维护时，我们也需要加强宣传和培训工作。\n",
      "\n",
      "至于你提到的“为什么动力电池偏偏用的是锂电池呢？”这个问题，能量密度是一个重要的考虑因素。锂电池具有较高的能量密度，可以提供更长的行驶距离或工作时间，因此被广泛应用于电动汽车等动力系统中。同时，锂电池的充电和放电性能也较好，适合于大功率和快速充电的应用场景。当然，在选择动力电池时还需要考虑其他因素，如安全性、寿命、成本等。\n",
      "\n",
      "Refer：\n",
      " [1] **document_test\\aaa.txt**  固定磁场无刷电机\n",
      "\n",
      "[2] **document_test\\aaa.txt**  弱磁控制：当电机转速超过一定数值后，励磁电流已经相当小，基本不能再调节，此时进入弱磁控制阶段。\n",
      "\n",
      "[3] **document_test\\aaa.txt**  于环境极为恶劣的场合，如潮湿、高温、多尘、腐蚀等场合。所有这些，造成了电机更容易损坏，尤其是过载、短路、缺相、扫膛等故障出现频率最高。\n",
      "\n",
      "[4] **document_test\\aaa.txt**  机床上传统的“旋转电机 +\n",
      "\n",
      "[5] **document_test\\aaa.txt**  三、磁阻同步电动机\n",
      "\n",
      "[6] **https://zhuanlan.zhihu.com/p/339971541**  电池，就不得不拉回正题，谈谈动力电池，目前市面上电动汽车基本上都采用的是锂离子电池（以下简称锂电池），可能会有很多朋友会问，为什么动力电池偏偏用的是锂电池呢？回答这个问题前，我们先来看看一个概念——能量密度。能量密度（Energy\n",
      "\n",
      "[7] **document_test\\aaa.txt**  定电压，以降低晶闸管的热损耗，延长软启动器的使用寿命，提高其工作效率，又使电网避免了谐波污染。软启动器同时还提供软停车功能，软停车与软启动过程相反，电压逐渐降低，转数逐渐下降到零，避免自由停车引起的转矩冲击。\n",
      "\n",
      "[8] **document_test\\aaa.txt**  控制原理\n",
      "\n",
      "[9] **document_test\\aaa.txt**  到限制。交流电机没有碳刷及整流子，免维护、坚固、应用广，但特性上若要达到相当于直流电机的性能须用复杂控制技术才能达到。现今半导体发展迅速功率组件切换频率加快许多，提升驱动电机的性能。微处理机速度亦越来越快，可实现将交流电机控制置于一旋转的两轴直交坐标系统中，适当控制交流电机在两轴电流分量，达到类似直流电机控制并有与直流电机相当的性能。\n",
      "\n",
      "[10] **document_test\\aaa.txt**  五、加强宣传培训\n",
      "\n",
      "\n",
      "User query：动力电池有哪些分类？\n"
     ]
    },
    {
     "name": "stderr",
     "output_type": "stream",
     "text": [
      "Batches: 100%|███████████████████████████████████████████████████████████████████████████| 1/1 [00:00<00:00, 83.53it/s]\n"
     ]
    },
    {
     "name": "stdout",
     "output_type": "stream",
     "text": [
      ">>><<< 10\n",
      "\n",
      "AI：\n",
      " 您好！动力电池根据不同标准有不同分类方式，常见分类如下：\n",
      "\n",
      "1. 按照工作性质可分为：动力电池、牵引电池（含蓄电池）、起动电池；\n",
      "2. 按照正极材料种类可分为：钴酸锂电池、锰酸锂电池、三元材料（NCM）电池、磷酸铁锂（LFP）电池；\n",
      "3. 按照电池的形状可分为：圆柱形电池、方壳电池、软包电池。\n",
      "\n",
      "以上是动力电池常见的分类方式，具体到上汽魔方电池，其采用的是躺式布局的锂离子电池，具有能量密度高、体积小、重量轻等优势。同时，上汽魔方电池还具有高低温性能优异、安全性好、寿命长等优势。\n",
      "\n",
      "以上信息仅供参考，如果您还有疑问，建议咨询专业人士意见。\n",
      "\n",
      "Refer：\n",
      " [1] **https://zhuanlan.zhihu.com/p/339971541**  一文读懂汽车动力电池 -\n",
      "\n",
      "[2] **https://zhuanlan.zhihu.com/p/339971541**  电池，就不得不拉回正题，谈谈动力电池，目前市面上电动汽车基本上都采用的是锂离子电池（以下简称锂电池），可能会有很多朋友会问，为什么动力电池偏偏用的是锂电池呢？回答这个问题前，我们先来看看一个概念——能量密度。能量密度（Energy\n",
      "\n",
      "[3] **document_test\\aaa.txt**  固定磁场无刷电机\n",
      "\n",
      "[4] **document_test\\aaa.txt**  弱磁控制：当电机转速超过一定数值后，励磁电流已经相当小，基本不能再调节，此时进入弱磁控制阶段。\n",
      "\n",
      "[5] **document_test\\aaa.txt**  直流电动机工作原理\n",
      "\n",
      "导体受力的方向用左手定则确定。这一对电磁力形成了作用于电枢一个力矩，这个力矩在旋转电机里称为电磁转矩，转矩的方向是逆时针方向，企图使电枢逆时针方向转动。如果此电磁转矩能够克服电枢上的阻转矩（例如由摩擦引起的阻转矩以及其它负载转矩），电枢就能按逆时针方向旋转起来。\n",
      "\n",
      "[6] **https://zhuanlan.zhihu.com/p/339971541**  ，因此相比竞品而言 上 汽魔方电池在各个容量电池包的体积效率转换和重量效率转换都更为出色。上汽魔方电池躺式布局https://www.zhihu.com/video/1549353400738979841编辑于 2022-09-03 11:19动力电池锂电池​赞同 183​​7 条评论​分享​喜欢​收藏​申请转载​\n",
      "\n",
      "[7] **document_test\\aaa.txt**  二、认真组织电机生产企业执行强制性能效标准\n",
      "\n",
      "[8] **document_test\\aaa.txt**  机床上传统的“旋转电机 +\n",
      "\n",
      "[9] **document_test\\aaa.txt**  到限制。交流电机没有碳刷及整流子，免维护、坚固、应用广，但特性上若要达到相当于直流电机的性能须用复杂控制技术才能达到。现今半导体发展迅速功率组件切换频率加快许多，提升驱动电机的性能。微处理机速度亦越来越快，可实现将交流电机控制置于一旋转的两轴直交坐标系统中，适当控制交流电机在两轴电流分量，达到类似直流电机控制并有与直流电机相当的性能。\n",
      "\n",
      "[10] **document_test\\aaa.txt**  控制原理\n",
      "\n",
      "\n"
     ]
    },
    {
     "ename": "KeyboardInterrupt",
     "evalue": "Interrupted by user",
     "output_type": "error",
     "traceback": [
      "\u001b[1;31m---------------------------------------------------------------------------\u001b[0m",
      "\u001b[1;31mKeyboardInterrupt\u001b[0m                         Traceback (most recent call last)",
      "Cell \u001b[1;32mIn[14], line 2\u001b[0m\n\u001b[0;32m      1\u001b[0m \u001b[38;5;28;01mwhile\u001b[39;00m \u001b[38;5;28;01mTrue\u001b[39;00m:\n\u001b[1;32m----> 2\u001b[0m     query \u001b[38;5;241m=\u001b[39m \u001b[38;5;28minput\u001b[39m(\u001b[38;5;124m\"\u001b[39m\u001b[38;5;124mUser query：\u001b[39m\u001b[38;5;124m\"\u001b[39m)\n\u001b[0;32m      3\u001b[0m     response, refer \u001b[38;5;241m=\u001b[39m rag\u001b[38;5;241m.\u001b[39minvoke(query, topk\u001b[38;5;241m=\u001b[39m\u001b[38;5;241m10\u001b[39m)  \u001b[38;5;66;03m# 使用检索最相似的topk=10个\u001b[39;00m\n\u001b[0;32m      4\u001b[0m     \u001b[38;5;28mprint\u001b[39m(\u001b[38;5;124m\"\u001b[39m\u001b[38;5;130;01m\\n\u001b[39;00m\u001b[38;5;124mAI：\u001b[39m\u001b[38;5;130;01m\\n\u001b[39;00m\u001b[38;5;124m\"\u001b[39m, response)\n",
      "File \u001b[1;32mG:\\anzhuangqu\\anaconda2023\\envs\\gradio_env\\Lib\\site-packages\\ipykernel\\kernelbase.py:1202\u001b[0m, in \u001b[0;36mKernel.raw_input\u001b[1;34m(self, prompt)\u001b[0m\n\u001b[0;32m   1200\u001b[0m     msg \u001b[38;5;241m=\u001b[39m \u001b[38;5;124m\"\u001b[39m\u001b[38;5;124mraw_input was called, but this frontend does not support input requests.\u001b[39m\u001b[38;5;124m\"\u001b[39m\n\u001b[0;32m   1201\u001b[0m     \u001b[38;5;28;01mraise\u001b[39;00m StdinNotImplementedError(msg)\n\u001b[1;32m-> 1202\u001b[0m \u001b[38;5;28;01mreturn\u001b[39;00m \u001b[38;5;28mself\u001b[39m\u001b[38;5;241m.\u001b[39m_input_request(\n\u001b[0;32m   1203\u001b[0m     \u001b[38;5;28mstr\u001b[39m(prompt),\n\u001b[0;32m   1204\u001b[0m     \u001b[38;5;28mself\u001b[39m\u001b[38;5;241m.\u001b[39m_parent_ident[\u001b[38;5;124m\"\u001b[39m\u001b[38;5;124mshell\u001b[39m\u001b[38;5;124m\"\u001b[39m],\n\u001b[0;32m   1205\u001b[0m     \u001b[38;5;28mself\u001b[39m\u001b[38;5;241m.\u001b[39mget_parent(\u001b[38;5;124m\"\u001b[39m\u001b[38;5;124mshell\u001b[39m\u001b[38;5;124m\"\u001b[39m),\n\u001b[0;32m   1206\u001b[0m     password\u001b[38;5;241m=\u001b[39m\u001b[38;5;28;01mFalse\u001b[39;00m,\n\u001b[0;32m   1207\u001b[0m )\n",
      "File \u001b[1;32mG:\\anzhuangqu\\anaconda2023\\envs\\gradio_env\\Lib\\site-packages\\ipykernel\\kernelbase.py:1245\u001b[0m, in \u001b[0;36mKernel._input_request\u001b[1;34m(self, prompt, ident, parent, password)\u001b[0m\n\u001b[0;32m   1242\u001b[0m \u001b[38;5;28;01mexcept\u001b[39;00m \u001b[38;5;167;01mKeyboardInterrupt\u001b[39;00m:\n\u001b[0;32m   1243\u001b[0m     \u001b[38;5;66;03m# re-raise KeyboardInterrupt, to truncate traceback\u001b[39;00m\n\u001b[0;32m   1244\u001b[0m     msg \u001b[38;5;241m=\u001b[39m \u001b[38;5;124m\"\u001b[39m\u001b[38;5;124mInterrupted by user\u001b[39m\u001b[38;5;124m\"\u001b[39m\n\u001b[1;32m-> 1245\u001b[0m     \u001b[38;5;28;01mraise\u001b[39;00m \u001b[38;5;167;01mKeyboardInterrupt\u001b[39;00m(msg) \u001b[38;5;28;01mfrom\u001b[39;00m \u001b[38;5;28;01mNone\u001b[39;00m\n\u001b[0;32m   1246\u001b[0m \u001b[38;5;28;01mexcept\u001b[39;00m \u001b[38;5;167;01mException\u001b[39;00m:\n\u001b[0;32m   1247\u001b[0m     \u001b[38;5;28mself\u001b[39m\u001b[38;5;241m.\u001b[39mlog\u001b[38;5;241m.\u001b[39mwarning(\u001b[38;5;124m\"\u001b[39m\u001b[38;5;124mInvalid Message:\u001b[39m\u001b[38;5;124m\"\u001b[39m, exc_info\u001b[38;5;241m=\u001b[39m\u001b[38;5;28;01mTrue\u001b[39;00m)\n",
      "\u001b[1;31mKeyboardInterrupt\u001b[0m: Interrupted by user"
     ]
    }
   ],
   "source": [
    "while True:\n",
    "    query = input(\"User query：\")\n",
    "    response, refer = rag.invoke(query, topk=10)  # 使用检索最相似的topk=10个\n",
    "    print(\"\\nAI：\\n\", response)\n",
    "    print(\"\\nRefer：\\n\", refer)"
   ]
  },
  {
   "cell_type": "markdown",
   "id": "97b58b30",
   "metadata": {},
   "source": [
    "## 11.在streamlit web中运行\n",
    "\n",
    "要在终端中运行：假设你的`.py`文件名为`main.py`，那么在终端运行：\n",
    "\n",
    "```bash\n",
    "streamlit run main.py\n",
    "```"
   ]
  },
  {
   "cell_type": "code",
   "execution_count": null,
   "id": "4c355a47",
   "metadata": {},
   "outputs": [],
   "source": [
    "# main.py\n",
    "from pylmkit.core.base import BaseWebUI\n",
    "from pylmkit.memory import MemoryHistoryLength\n",
    "\n",
    "\n",
    "web = BaseWebUI(language='zh')  # 使用中文网站\n",
    "memory = MemoryHistoryLength(memory_length=web.param(label=\"记忆长度\", type='int', value=500),  # 添加页面交互参数\n",
    "                             streamlit_web=True\n",
    "                            )\n",
    "\n",
    "web.run(\n",
    "    obj=rag.invoke,\n",
    "    input_param=[{\"name\": \"query\", \"label\": \"用户输入内容\", \"type\": \"chat\"},\n",
    "                 {\"name\": \"topk\", \"label\": \"最相似topk\", \"type\": \"int\"},\n",
    "                 ],\n",
    "    output_param=[{'label': '结果', 'name': 'response', 'type': 'chat'},\n",
    "                  {'label': '参考', 'name': 'refer', 'type': 'refer'}\n",
    "                  ]\n",
    ")\n",
    "\n"
   ]
  },
  {
   "cell_type": "code",
   "execution_count": null,
   "id": "dbe996b7",
   "metadata": {},
   "outputs": [],
   "source": []
  },
  {
   "cell_type": "code",
   "execution_count": null,
   "id": "b6d7d6e5",
   "metadata": {},
   "outputs": [],
   "source": []
  },
  {
   "cell_type": "code",
   "execution_count": null,
   "id": "01db48c6",
   "metadata": {},
   "outputs": [],
   "source": []
  },
  {
   "cell_type": "code",
   "execution_count": null,
   "id": "11908179",
   "metadata": {},
   "outputs": [],
   "source": []
  },
  {
   "cell_type": "code",
   "execution_count": null,
   "id": "925adaa5",
   "metadata": {},
   "outputs": [],
   "source": []
  }
 ],
 "metadata": {
  "kernelspec": {
   "display_name": "gradio_env",
   "language": "python",
   "name": "gradio_env"
  },
  "language_info": {
   "codemirror_mode": {
    "name": "ipython",
    "version": 3
   },
   "file_extension": ".py",
   "mimetype": "text/x-python",
   "name": "python",
   "nbconvert_exporter": "python",
   "pygments_lexer": "ipython3",
   "version": "3.11.5"
  },
  "toc": {
   "base_numbering": 1,
   "nav_menu": {},
   "number_sections": true,
   "sideBar": true,
   "skip_h1_title": false,
   "title_cell": "Table of Contents",
   "title_sidebar": "Contents",
   "toc_cell": false,
   "toc_position": {},
   "toc_section_display": true,
   "toc_window_display": false
  },
  "varInspector": {
   "cols": {
    "lenName": 16,
    "lenType": 16,
    "lenVar": 40
   },
   "kernels_config": {
    "python": {
     "delete_cmd_postfix": "",
     "delete_cmd_prefix": "del ",
     "library": "var_list.py",
     "varRefreshCmd": "print(var_dic_list())"
    },
    "r": {
     "delete_cmd_postfix": ") ",
     "delete_cmd_prefix": "rm(",
     "library": "var_list.r",
     "varRefreshCmd": "cat(var_dic_list()) "
    }
   },
   "types_to_exclude": [
    "module",
    "function",
    "builtin_function_or_method",
    "instance",
    "_Feature"
   ],
   "window_display": false
  }
 },
 "nbformat": 4,
 "nbformat_minor": 5
}
