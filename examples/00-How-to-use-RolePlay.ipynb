{
 "cells": [
  {
   "cell_type": "markdown",
   "id": "f4367e99",
   "metadata": {},
   "source": [
    "## 1.项目信息\n",
    "- 日期： 2023-12-2\n",
    "- 作者：小知\n",
    "- 课题: 通过设置角色模板并结合在线搜索、记忆和知识库功能，实现典型的对话应用功能。这个功能是大模型应用的基础功能，在后续其它RAG等功能中都会用到这个功能。\n",
    "- 功能与作用：RolePlay角色扮演是一种基础功能，也是重要的功能。现在在各大大模型企业的APP中可以看到很多关于短视频文案、小红书文案、高情商朋友圈等这些功能的底层逻辑是基于角色扮演中设置不同的角色模板实现的。\n",
    "- GitHub：[https://github.com/52phm/pylmkit](https://github.com/52phm/pylmkit)\n",
    "- PyLMKit官网教程\n",
    "    - [PyLMKit应用（online application）](http://app.pylmkit.cn)\n",
    "    - [English document](http://en.pylmkit.cn)\n",
    "    - [中文文档](http://zh.pylmkit.cn)\n",
    "    \n",
    "**PyLMKit RolePlay**\n",
    "\n",
    "![RolePlay](https://github.com/52phm/pylmkit/blob/main/docs/images/RolePlay.png)"
   ]
  },
  {
   "cell_type": "code",
   "execution_count": 8,
   "id": "0e70b8c2",
   "metadata": {
    "scrolled": true
   },
   "outputs": [],
   "source": [
    "# 下载安装\n",
    "# !pip install pylmkit -U --user"
   ]
  },
  {
   "cell_type": "markdown",
   "id": "a1fe84e8",
   "metadata": {},
   "source": [
    "## 2.设置API KEY\n",
    "\n",
    "应用哪个大模型，就提前设置好该大模型对应的 `API KEY`"
   ]
  },
  {
   "cell_type": "code",
   "execution_count": 9,
   "id": "bf1771e3",
   "metadata": {},
   "outputs": [],
   "source": [
    "import os\n",
    "\n",
    "\n",
    "# openai chatgpt\n",
    "os.environ['openai_api_key'] = \"\"\n",
    "\n",
    "# 百度\n",
    "os.environ['qianfan_ak'] = \"\"\n",
    "os.environ['qianfan_sk'] = \"\"\n",
    "\n",
    "# 阿里\n",
    "os.environ[\"DASHSCOPE_API_KEY\"] = \"\"\n",
    "\n",
    "# 科大讯飞-星火\n",
    "os.environ[\"spark_appid\"] = \"\"\n",
    "os.environ[\"spark_apikey\"] = \"\"\n",
    "os.environ[\"spark_apisecret\"] = \"\"\n",
    "os.environ[\"spark_domain\"] = \"generalv3\"\n",
    "\n",
    "# 智谱AI\n",
    "os.environ['zhipu_apikey'] = \"\"\n"
   ]
  },
  {
   "cell_type": "markdown",
   "id": "3fdfeb26",
   "metadata": {},
   "source": [
    "或者在`.env`文件中批量加载设置好的`API KEY`，加载方法如下："
   ]
  },
  {
   "cell_type": "code",
   "execution_count": null,
   "id": "d876c6de",
   "metadata": {},
   "outputs": [],
   "source": [
    "from dotenv import load_dotenv\n",
    "\n",
    "# load .env\n",
    "load_dotenv()"
   ]
  },
  {
   "cell_type": "markdown",
   "id": "91ce6288",
   "metadata": {},
   "source": [
    "## 3.加载大语言模型\n",
    "\n",
    "导入大语言模型，在本案例中使用`百度千帆`大模型作为例子进行介绍。"
   ]
  },
  {
   "cell_type": "code",
   "execution_count": 10,
   "id": "98e071d1",
   "metadata": {},
   "outputs": [],
   "source": [
    "from pylmkit.llms import ChatQianfan  # 百度-千帆\n",
    "from pylmkit.llms import ChatSpark  # 讯飞-星火\n",
    "from pylmkit.llms import ChatZhipu  # 清华-智谱\n",
    "from pylmkit.llms import ChatHunyuan  # 腾讯-混元\n",
    "from pylmkit.llms import ChatBaichuan  # 百川\n",
    "from pylmkit.llms import ChatTongyi  # 阿里-通义\n",
    "from pylmkit.llms import ChatOpenAI  # OpenAI\n",
    "\n",
    "model = ChatQianfan()"
   ]
  },
  {
   "cell_type": "markdown",
   "id": "d72d4f81",
   "metadata": {},
   "source": [
    "## 4.选择记忆功能\n",
    "\n",
    "PyLMKit 设计了四种记忆功能，分别如下：\n",
    "\n",
    "- MemoryHistoryLength：记忆历史长度，强调使用近期多长的记忆内容；\n",
    "- MemoryConversationsNumber：记忆对数数，强调使用近期N组对话作为记忆的内容；\n",
    "- MemorySummary：记忆摘要，强调精简提取记忆；\n",
    "- 暂未公布\n",
    "\n",
    "本案例使用`MemoryHistoryLength`记忆功能，使得大语言模型能到根据该历史记忆记住上下文内容，以便连贯回答用户的问题。(更多关于记忆的用法，可以在后续memory专题中查阅)"
   ]
  },
  {
   "cell_type": "code",
   "execution_count": 11,
   "id": "6c02d095",
   "metadata": {},
   "outputs": [],
   "source": [
    "from pylmkit.memory import MemoryHistoryLength\n",
    "\n",
    "\n",
    "memory = MemoryHistoryLength(memory_length=500, streamlit_web=False)  # 在python中运行\n",
    "# memory2 = MemoryHistoryLength(memory_length=500, streamlit_web=True)  # 在streamlit web中运行"
   ]
  },
  {
   "cell_type": "markdown",
   "id": "113a35af",
   "metadata": {},
   "source": [
    "## 5.设计角色模板\n",
    "\n",
    "大语言模型是一种`一对多`关系的模型架构，其中`一`表示大语言模型，而`多`表示下游任务，比如写作、客服、分析数据等这些都属于下游任务。\n",
    "因此需要我们通过设计提示词模板去引导大语言模型高效且有质量地完成指定`下游任务`。\n",
    "\n",
    "在设计角色模板之前，我们先来了解`PyLMKit`中一些必须固定的关键词：\n",
    "\n",
    "- {query}：表示这是用户输入的提问内容；\n",
    "- {search}：表示线上实时搜索引擎搜索返回的内容；\n",
    "- {memory}：表示记忆的内容；\n",
    "- {ra}：表示知识库搜索返回的内容。\n",
    "\n",
    "下面我们来看一个角色模板的例子：\n",
    "\n",
    "```python\n",
    "# 它们所在的位置，表示它们内容所嵌入的位置\n",
    "role_template = \"{memory}\\n {search}\\n 用户提问:{query}\"\n",
    "\n",
    "# 当然，你还可以进一步设计模板\n",
    "role_template = \"历史对话内容：{memory}\\n 搜索的相似内容：{search} {ra}\\n 请结合上述内容回答问题:{query}\"\n",
    "\n",
    "model.invoke(query=\"如何学习python？\")\n",
    "```\n",
    "\n",
    "角色模板决定大语言模型回答的质量，因此角色模板需要反复打磨，以设计一个高质量的角色模板，对问题的解决效果可以达到事半功倍。\n",
    "\n",
    "另外，值得注意的是，如果你设计的角色模板的关键词，不在`[query, search, ra, memory]`中，那么你需要额外添加新的变量和变量值，例如：\n",
    "\n",
    "```python\n",
    "role_template = \"{memory}\\n 请为我推荐{query}的{topic}\"\n",
    "\n",
    "# 额外的关键字，可以像 topic=\"美食\" 一样添加，多个也是一样的步骤进行添加\n",
    "model.invoke(query='北京', topic=\"美食\")\n",
    "```\n"
   ]
  },
  {
   "cell_type": "code",
   "execution_count": 12,
   "id": "9284ea42",
   "metadata": {},
   "outputs": [],
   "source": [
    "role_template = \"{memory}\\n 请为我推荐{query}的{topic}\""
   ]
  },
  {
   "cell_type": "markdown",
   "id": "9ad8d034",
   "metadata": {},
   "source": [
    "## 6.加载角色扮演应用\n",
    "\n",
    "RolePlay角色扮演是一种基础功能，也是重要的功能。现在在各大大模型企业的APP中可以看到很多关于`短视频文案、小红书文案、高情商朋友圈`等这些功能的底层逻辑是基于角色扮演中设置不同的角色模板实现的。\n"
   ]
  },
  {
   "cell_type": "code",
   "execution_count": 13,
   "id": "4fa4162c",
   "metadata": {},
   "outputs": [],
   "source": [
    "from pylmkit.app import RolePlay\n",
    "\n",
    "\n",
    "rp = RolePlay(\n",
    "    role_template=role_template,  # 角色模板\n",
    "    llm_model=model,  # 大语言模型\n",
    "    memory=memory,  # 记忆\n",
    "    # online_search_kwargs={},\n",
    "    online_search_kwargs={'topk': 2, 'timeout': 20},  # 搜索引擎配置，不开启则可以设置为 online_search_kwargs={}\n",
    "    return_language=\"中文\"\n",
    ")"
   ]
  },
  {
   "cell_type": "markdown",
   "id": "dc04337f",
   "metadata": {},
   "source": [
    "## 7.在python中运行"
   ]
  },
  {
   "cell_type": "code",
   "execution_count": 14,
   "id": "b6e28d6f",
   "metadata": {},
   "outputs": [
    {
     "name": "stdout",
     "output_type": "stream",
     "text": [
      "User query：北京\n",
      "User topic：美食\n"
     ]
    },
    {
     "name": "stderr",
     "output_type": "stream",
     "text": [
      "2023-12-02 01:28:27 - httpx - INFO - HTTP Request: POST https://duckduckgo.com \"HTTP/2 200 OK\"\n",
      "2023-12-02 01:28:29 - httpx - INFO - HTTP Request: GET https://links.duckduckgo.com/d.js?q=%E5%8C%97%E4%BA%AC&kl=wt-wt&l=wt-wt&s=0&df=&vqd=4-45222965241755774163610013696327482249&o=json&sp=0&ex=-1 \"HTTP/2 200 OK\"\n"
     ]
    },
    {
     "name": "stdout",
     "output_type": "stream",
     "text": [
      "\n",
      "AI： 北京有很多美食，以下是为您推荐的一些美食：\n",
      "\n",
      "1. 北京烤鸭：是北京最著名的传统美食，具有独特的皮脆肉嫩、肥而不腻的口味。\n",
      "\n",
      "2. 炸酱面：是一道非常受欢迎的主食，面条劲道，炸酱味道浓郁，可以搭配各种蔬菜和肉类。\n",
      "\n",
      "3. 炒肝：是一种传统早点，主要原料是猪大肠和猪肝，口感鲜美，适合早餐食用。\n",
      "\n",
      "4. 羊肉串：是北京街头巷尾最常见的烧烤之一，肉质鲜嫩，味道鲜美。\n",
      "\n",
      "5. 豆汁儿：是北京传统特色小吃之一，由绿豆制作而成，味道独特，需要慢慢品尝。\n",
      "\n",
      "6. 爆肚：是北京传统小吃，口感鲜美，特别适合夏天食用。\n",
      "\n",
      "7. 涮羊肉：是一种传统的火锅美食，口感鲜美，涮出的羊肉非常嫩滑。\n",
      "\n",
      "除此之外，北京还有各种烤肉、烧麦、饺子、包子、馄饨等美食，您可以根据自己的口味选择尝试。\n",
      "\n",
      "Refer\n",
      "： [1] **https://zh.wikipedia.org/wiki/北京市**  北京古迹众多，著名的有紫禁城、天坛、颐和园、圆明园、北海公园等；胡同和四合院作为北京老城的典型民居形式，已经是北京历史重要的文化符号 。北京是中国重要的旅游城镇，被《米其林旅游指南》评为\"三星级旅游推荐\"（最高级别）目的地 。\n",
      "\n",
      "[2] **https://baike.baidu.com/item/北京市/126069**  北京市（Beijing），简称\"京\"，古称燕京、北平，中华民族的发祥地之一，是中华人民共和国首都、直辖市、国家中心城市、超大城市，国务院批复确定的中国政治中心、文化中心、国际交往中心、科技创新中心，中国历史文化名城和古都之一，世界一线城市。截至2023年10月，北京市下辖16个区，总 ...\n",
      "\n",
      "\n"
     ]
    },
    {
     "ename": "KeyboardInterrupt",
     "evalue": "Interrupted by user",
     "output_type": "error",
     "traceback": [
      "\u001b[1;31m---------------------------------------------------------------------------\u001b[0m",
      "\u001b[1;31mKeyboardInterrupt\u001b[0m                         Traceback (most recent call last)",
      "Cell \u001b[1;32mIn[14], line 2\u001b[0m\n\u001b[0;32m      1\u001b[0m \u001b[38;5;28;01mwhile\u001b[39;00m \u001b[38;5;28;01mTrue\u001b[39;00m:\n\u001b[1;32m----> 2\u001b[0m     query \u001b[38;5;241m=\u001b[39m \u001b[38;5;28minput\u001b[39m(\u001b[38;5;124m\"\u001b[39m\u001b[38;5;124mUser query：\u001b[39m\u001b[38;5;124m\"\u001b[39m)\n\u001b[0;32m      3\u001b[0m     topic \u001b[38;5;241m=\u001b[39m \u001b[38;5;28minput\u001b[39m(\u001b[38;5;124m\"\u001b[39m\u001b[38;5;124mUser topic：\u001b[39m\u001b[38;5;124m\"\u001b[39m)\n\u001b[0;32m      4\u001b[0m     response, refer \u001b[38;5;241m=\u001b[39m rp\u001b[38;5;241m.\u001b[39minvoke(query, topic\u001b[38;5;241m=\u001b[39mtopic)\n",
      "File \u001b[1;32mG:\\anzhuangqu\\anaconda2023\\envs\\gradio_env\\Lib\\site-packages\\ipykernel\\kernelbase.py:1202\u001b[0m, in \u001b[0;36mKernel.raw_input\u001b[1;34m(self, prompt)\u001b[0m\n\u001b[0;32m   1200\u001b[0m     msg \u001b[38;5;241m=\u001b[39m \u001b[38;5;124m\"\u001b[39m\u001b[38;5;124mraw_input was called, but this frontend does not support input requests.\u001b[39m\u001b[38;5;124m\"\u001b[39m\n\u001b[0;32m   1201\u001b[0m     \u001b[38;5;28;01mraise\u001b[39;00m StdinNotImplementedError(msg)\n\u001b[1;32m-> 1202\u001b[0m \u001b[38;5;28;01mreturn\u001b[39;00m \u001b[38;5;28mself\u001b[39m\u001b[38;5;241m.\u001b[39m_input_request(\n\u001b[0;32m   1203\u001b[0m     \u001b[38;5;28mstr\u001b[39m(prompt),\n\u001b[0;32m   1204\u001b[0m     \u001b[38;5;28mself\u001b[39m\u001b[38;5;241m.\u001b[39m_parent_ident[\u001b[38;5;124m\"\u001b[39m\u001b[38;5;124mshell\u001b[39m\u001b[38;5;124m\"\u001b[39m],\n\u001b[0;32m   1205\u001b[0m     \u001b[38;5;28mself\u001b[39m\u001b[38;5;241m.\u001b[39mget_parent(\u001b[38;5;124m\"\u001b[39m\u001b[38;5;124mshell\u001b[39m\u001b[38;5;124m\"\u001b[39m),\n\u001b[0;32m   1206\u001b[0m     password\u001b[38;5;241m=\u001b[39m\u001b[38;5;28;01mFalse\u001b[39;00m,\n\u001b[0;32m   1207\u001b[0m )\n",
      "File \u001b[1;32mG:\\anzhuangqu\\anaconda2023\\envs\\gradio_env\\Lib\\site-packages\\ipykernel\\kernelbase.py:1245\u001b[0m, in \u001b[0;36mKernel._input_request\u001b[1;34m(self, prompt, ident, parent, password)\u001b[0m\n\u001b[0;32m   1242\u001b[0m \u001b[38;5;28;01mexcept\u001b[39;00m \u001b[38;5;167;01mKeyboardInterrupt\u001b[39;00m:\n\u001b[0;32m   1243\u001b[0m     \u001b[38;5;66;03m# re-raise KeyboardInterrupt, to truncate traceback\u001b[39;00m\n\u001b[0;32m   1244\u001b[0m     msg \u001b[38;5;241m=\u001b[39m \u001b[38;5;124m\"\u001b[39m\u001b[38;5;124mInterrupted by user\u001b[39m\u001b[38;5;124m\"\u001b[39m\n\u001b[1;32m-> 1245\u001b[0m     \u001b[38;5;28;01mraise\u001b[39;00m \u001b[38;5;167;01mKeyboardInterrupt\u001b[39;00m(msg) \u001b[38;5;28;01mfrom\u001b[39;00m \u001b[38;5;28;01mNone\u001b[39;00m\n\u001b[0;32m   1246\u001b[0m \u001b[38;5;28;01mexcept\u001b[39;00m \u001b[38;5;167;01mException\u001b[39;00m:\n\u001b[0;32m   1247\u001b[0m     \u001b[38;5;28mself\u001b[39m\u001b[38;5;241m.\u001b[39mlog\u001b[38;5;241m.\u001b[39mwarning(\u001b[38;5;124m\"\u001b[39m\u001b[38;5;124mInvalid Message:\u001b[39m\u001b[38;5;124m\"\u001b[39m, exc_info\u001b[38;5;241m=\u001b[39m\u001b[38;5;28;01mTrue\u001b[39;00m)\n",
      "\u001b[1;31mKeyboardInterrupt\u001b[0m: Interrupted by user"
     ]
    }
   ],
   "source": [
    "while True:\n",
    "    query = input(\"User query：\")\n",
    "    topic = input(\"User topic：\")\n",
    "    response, refer = rp.invoke(query, topic=topic)\n",
    "    print(\"\\nAI：\", response)\n",
    "    print(\"\\nRefer\\n：\", refer)"
   ]
  },
  {
   "cell_type": "markdown",
   "id": "93ee570a",
   "metadata": {},
   "source": [
    "## 在streamlit web中运行\n",
    "\n",
    "要在终端中运行：假设你的`.py`文件名为`main.py`，那么在终端运行：\n",
    "\n",
    "```bash\n",
    "streamlit run main.py\n",
    "```"
   ]
  },
  {
   "cell_type": "code",
   "execution_count": null,
   "id": "4c355a47",
   "metadata": {},
   "outputs": [],
   "source": [
    "# main.py\n",
    "from pylmkit.core.base import BaseWebUI\n",
    "from pylmkit.memory import MemoryHistoryLength\n",
    "\n",
    "\n",
    "web = BaseWebUI(language='zh')  # 使用中文网站\n",
    "memory = MemoryHistoryLength(memory_length=web.param(label=\"记忆长度\", type='int', value=500),  # 添加页面交互参数\n",
    "                             streamlit_web=True\n",
    "                            )\n",
    "\n",
    "web.run(\n",
    "    obj=rp.invoke,\n",
    "    input_param=[{\"name\": \"query\", \"label\": \"地点\", \"type\": \"chat\"},\n",
    "                 {\"name\": \"topic\", \"label\": \"主题\", \"type\": \"text\"},\n",
    "                 ],\n",
    "    output_param=[{'label': '结果', 'name': 'response', 'type': 'chat'},\n",
    "                  {'label': '参考', 'name': 'refer', 'type': 'refer'}\n",
    "                  ]\n",
    ")"
   ]
  },
  {
   "cell_type": "code",
   "execution_count": null,
   "id": "dbe996b7",
   "metadata": {},
   "outputs": [],
   "source": []
  },
  {
   "cell_type": "code",
   "execution_count": null,
   "id": "b6d7d6e5",
   "metadata": {},
   "outputs": [],
   "source": []
  },
  {
   "cell_type": "code",
   "execution_count": null,
   "id": "01db48c6",
   "metadata": {},
   "outputs": [],
   "source": []
  },
  {
   "cell_type": "code",
   "execution_count": null,
   "id": "11908179",
   "metadata": {},
   "outputs": [],
   "source": []
  },
  {
   "cell_type": "code",
   "execution_count": null,
   "id": "925adaa5",
   "metadata": {},
   "outputs": [],
   "source": []
  }
 ],
 "metadata": {
  "kernelspec": {
   "display_name": "gradio_env",
   "language": "python",
   "name": "gradio_env"
  },
  "language_info": {
   "codemirror_mode": {
    "name": "ipython",
    "version": 3
   },
   "file_extension": ".py",
   "mimetype": "text/x-python",
   "name": "python",
   "nbconvert_exporter": "python",
   "pygments_lexer": "ipython3",
   "version": "3.11.5"
  },
  "toc": {
   "base_numbering": 1,
   "nav_menu": {},
   "number_sections": true,
   "sideBar": true,
   "skip_h1_title": false,
   "title_cell": "Table of Contents",
   "title_sidebar": "Contents",
   "toc_cell": false,
   "toc_position": {},
   "toc_section_display": true,
   "toc_window_display": false
  },
  "varInspector": {
   "cols": {
    "lenName": 16,
    "lenType": 16,
    "lenVar": 40
   },
   "kernels_config": {
    "python": {
     "delete_cmd_postfix": "",
     "delete_cmd_prefix": "del ",
     "library": "var_list.py",
     "varRefreshCmd": "print(var_dic_list())"
    },
    "r": {
     "delete_cmd_postfix": ") ",
     "delete_cmd_prefix": "rm(",
     "library": "var_list.r",
     "varRefreshCmd": "cat(var_dic_list()) "
    }
   },
   "types_to_exclude": [
    "module",
    "function",
    "builtin_function_or_method",
    "instance",
    "_Feature"
   ],
   "window_display": false
  }
 },
 "nbformat": 4,
 "nbformat_minor": 5
}
